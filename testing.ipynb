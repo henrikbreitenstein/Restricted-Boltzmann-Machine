{
 "cells": [
  {
   "cell_type": "code",
   "execution_count": 13,
   "metadata": {},
   "outputs": [],
   "source": [
    "import torch\n",
    "import numpy as np"
   ]
  },
  {
   "cell_type": "code",
   "execution_count": 5,
   "metadata": {},
   "outputs": [
    {
     "name": "stdout",
     "output_type": "stream",
     "text": [
      "tensor([[False,  True],\n",
      "        [ True, False],\n",
      "        [False,  True],\n",
      "        [False,  True],\n",
      "        [False,  True],\n",
      "        [False,  True]])\n"
     ]
    },
    {
     "data": {
      "text/plain": [
       "(tensor([0, 1, 2, 3, 4, 5]), tensor([1, 0, 1, 1, 1, 1]))"
      ]
     },
     "execution_count": 5,
     "metadata": {},
     "output_type": "execute_result"
    }
   ],
   "source": [
    "a = torch.tensor([[0,0], [1, 1], [0, 0], [0, 0], [0, 0], [0, 0]])\n",
    "unique = torch.unique(a, dim=0)\n",
    "H = torch.all(a[:, None] == unique, dim=-1)\n",
    "w = torch.tensor([0.8, 0.1, 0.1, 0.01])\n",
    "doubles = torch.where(abs(torch.sum(a[:, None] - unique, dim=-1)) == 2)\n",
    "print(abs(torch.sum(a[:, None] - unique, dim=-1)) == 2)\n",
    "doubles"
   ]
  },
  {
   "cell_type": "code",
   "execution_count": 6,
   "metadata": {},
   "outputs": [
    {
     "data": {
      "text/plain": [
       "tensor([-0.9000,  1.8000, -0.9000, -0.9000, -0.9000, -0.9000])"
      ]
     },
     "execution_count": 6,
     "metadata": {},
     "output_type": "execute_result"
    }
   ],
   "source": [
    "def lipkin_local(dist_s, unique_s, weight_s, eps, V, W):\n",
    "    size = weight_s[torch.where(torch.all(dist_s[:, None] == unique_s, dim=-1))[1]]\n",
    "    H_0 = eps*(torch.sum(dist_s == 1, dim=1) - torch.sum(dist_s == 0, dim=1))\n",
    "    size_mask, weight_mask = torch.where(torch.abs(torch.sum(dist_s[:, None]-unique_s, dim=-1)) == 2)\n",
    "    H_1 = torch.zeros_like(size)\n",
    "    H_1[size_mask] = V*weight_s[weight_mask]\n",
    "    sum = 0.5*H_0 + H_1\n",
    "    return sum\n",
    "\n",
    "lipkin_local(a, unique, w, 1, 1, 0)"
   ]
  },
  {
   "cell_type": "code",
   "execution_count": 7,
   "metadata": {},
   "outputs": [
    {
     "data": {
      "text/plain": [
       "[(0, 0, 0),\n",
       " (0, 0, 1),\n",
       " (0, 1, 0),\n",
       " (0, 1, 1),\n",
       " (1, 0, 0),\n",
       " (1, 0, 1),\n",
       " (1, 1, 0),\n",
       " (1, 1, 1)]"
      ]
     },
     "execution_count": 7,
     "metadata": {},
     "output_type": "execute_result"
    }
   ],
   "source": [
    "import itertools\n",
    "lst = list(itertools.product([0, 1], repeat=3))\n",
    "lst"
   ]
  },
  {
   "cell_type": "code",
   "execution_count": 8,
   "metadata": {},
   "outputs": [
    {
     "data": {
      "text/plain": [
       "tensor(-1.4141)"
      ]
     },
     "execution_count": 8,
     "metadata": {},
     "output_type": "execute_result"
    }
   ],
   "source": [
    "dist_s = torch.tensor([[0, 0]]*24 + [[1, 1]]*4)\n",
    "size = dist_s.shape[0]\n",
    "unique, weight = torch.unique(dist_s, dim=0, return_counts=True)\n",
    "weight = torch.sqrt(weight/size)\n",
    "mask_u = torch.where(torch.all(dist_s[:, None] == unique, dim = -1))[1]\n",
    "\n",
    "H_0 = 0.5*(torch.sum(unique == 1, dim=-1) - torch.sum(unique == 0, dim = -1))\n",
    "H_1 = torch.sum(weight[:, None]*(abs(torch.sum((unique[:, None] - unique), dim=-1)) == 2), dim=0)/weight\n",
    "E = (H_0[mask_u] - H_1[mask_u])\n",
    "torch.mean(E)"
   ]
  },
  {
   "cell_type": "code",
   "execution_count": 9,
   "metadata": {},
   "outputs": [
    {
     "data": {
      "text/plain": [
       "tensor([[[1, 1, 1],\n",
       "         [1, 1, 1]],\n",
       "\n",
       "        [[1, 1, 1],\n",
       "         [0, 0, 0]],\n",
       "\n",
       "        [[0, 0, 0],\n",
       "         [1, 1, 1]],\n",
       "\n",
       "        [[0, 0, 0],\n",
       "         [0, 0, 0]]])"
      ]
     },
     "execution_count": 9,
     "metadata": {},
     "output_type": "execute_result"
    }
   ],
   "source": [
    "d = torch.tensor([[1, 1, 1], [1, 1, 1], [1, 1, 1], [1, 1, 1]])\n",
    "a = torch.tensor([[1, 1], [1, 0], [0, 1], [0, 0]])\n",
    "b = torch.tensor([2, 2, 2])\n",
    "\n",
    "a[:, :, None]@d[:, None, :]\n",
    "\n"
   ]
  },
  {
   "cell_type": "code",
   "execution_count": 10,
   "metadata": {},
   "outputs": [],
   "source": [
    "def ising_true(N, J, L):\n",
    "    hi = nk.hilbert.Spin(s=1/2, N=N) \n",
    "    H = sum([L*sigmax(hi,i) for i in range(N)])\n",
    "    H += sum([J*sigmaz(hi,i)*sigmaz(hi,(i+1)%N) for i in range(N)])\n",
    "    sp_h=H.to_sparse()\n",
    "    from scipy.sparse.linalg import eigsh\n",
    "    eig_vals, eig_vecs = eigsh(sp_h, k=2, which=\"SA\")\n",
    "    E_gs = eig_vals[0]\n",
    "    return E_gs"
   ]
  },
  {
   "cell_type": "code",
   "execution_count": 11,
   "metadata": {},
   "outputs": [
    {
     "data": {
      "text/plain": [
       "tensor([-2,  2,  2, -2])"
      ]
     },
     "execution_count": 11,
     "metadata": {},
     "output_type": "execute_result"
    }
   ],
   "source": [
    "dist_s = torch.tensor([[1, 1], [1, 0], [0, 1], [1, 0], [0, 1], [0,0], [0, 0], [0, 1], [0, 0], [0, 0], [0,0], [0,0], [0,0], [0,0], [0,0], [0,0], [1,1], [1,1], [1,1], [0,0], [0,0], [0,0], [0,0], [0,0], [0,0], [0,0], [0,0], [0,0]])\n",
    "size = dist_s.shape[0]\n",
    "unique, weight = torch.unique(dist_s, dim=0, return_counts=True)\n",
    "weight = torch.sqrt(weight/size)\n",
    "mask_u = torch.where(torch.all(dist_s[:, None] == unique, dim = -1))[1]\n",
    "\n",
    "unique = 2*unique-1\n",
    "H = -torch.sum(torch.roll(unique, 1, dims=-1)*unique, dim = -1)\n",
    "H"
   ]
  },
  {
   "cell_type": "code",
   "execution_count": 24,
   "metadata": {},
   "outputs": [
    {
     "name": "stdout",
     "output_type": "stream",
     "text": [
      "tensor([-1.4152, -1.4152, -1.4152, -1.4152, -1.4152, -1.4152, -1.4140, -1.4140,\n",
      "        -1.4140, -1.4140, -1.4140, -1.4140, -1.4140, -1.4140, -1.4140, -1.4140,\n",
      "        -1.4140, -1.4140, -1.4140, -1.4140, -1.4140, -1.4140, -1.4140, -1.4140,\n",
      "        -1.4140, -1.4140, -1.4140, -1.4140, -1.4140, -1.4140, -1.4140, -1.4140,\n",
      "        -1.4140, -1.4140, -1.4140, -1.4140, -1.4140, -1.4140, -1.4140, -1.4140,\n",
      "        -1.4140])\n"
     ]
    },
    {
     "data": {
      "text/plain": [
       "tensor(-1.4142)"
      ]
     },
     "execution_count": 24,
     "metadata": {},
     "output_type": "execute_result"
    }
   ],
   "source": [
    "def lipkin_local(eps, V, W, samples):\n",
    "\n",
    "    size = samples.shape[0]\n",
    "    unique, weight = torch.unique(samples, dim=0, return_counts=True)\n",
    "    weight = torch.sqrt(weight/size)\n",
    "    mask = torch.where(torch.all(samples[:, None] == unique, dim = -1))[1]\n",
    "    \n",
    "    N_0 = torch.sum(unique == 0, dim=-1)\n",
    "    N_1 = torch.sum(unique == 1, dim=-1)\n",
    "\n",
    "    diff_unique = abs(torch.sum(unique[:, None] - unique, dim=-1))\n",
    "    diff_N1 = abs(N_1[:, None] - N_1)\n",
    "\n",
    "    H_0 = 0.5*eps*(N_1-N_0)\n",
    "    H_eps = H_0[mask]\n",
    "    \n",
    "    one_pair = torch.bitwise_and(diff_unique==2, diff_N1==2)\n",
    "    H_1 = V*torch.sum(weight[:, None]*one_pair, dim=0)/weight\n",
    "    H_V = H_1[mask]\n",
    "    \n",
    "    H_2 = W*torch.sum(weight[:, None]*(diff_unique == 1), dim=0)/weight\n",
    "    H_W = H_2[mask]\n",
    "    \n",
    "    E = (H_eps - H_V - H_W)\n",
    "    return E\n",
    "\n",
    "dist_s = torch.tensor([[1, 1]]*6+[[0,0]]*35)\n",
    "print(lipkin_local(1,1,0,dist_s))\n",
    "torch.mean(lipkin_local(1,1,0,dist_s))"
   ]
  },
  {
   "cell_type": "code",
   "execution_count": 20,
   "metadata": {},
   "outputs": [
    {
     "name": "stdout",
     "output_type": "stream",
     "text": [
      "-1.4142135623730951\n"
     ]
    }
   ],
   "source": [
    "eps = 1; V = 1\n",
    "H = torch.tensor([[eps, 0, -V], [0, 0, 0], [-V, 0, -eps]], dtype=torch.float64)\n",
    "eigvals = torch.real(torch.linalg.eigvals(H))\n",
    "min_eigval = torch.min(eigvals)\n",
    "print(min_eigval.item())"
   ]
  },
  {
   "cell_type": "code",
   "execution_count": 27,
   "metadata": {},
   "outputs": [
    {
     "name": "stdout",
     "output_type": "stream",
     "text": [
      "tensor([-4.0000e+00, -2.1218e-16,  4.0000e+00,  3.1623e+00, -3.1623e+00],\n",
      "       dtype=torch.float64)\n"
     ]
    }
   ],
   "source": [
    "eps = 1; V = 1; W = 0\n",
    "H = torch.tensor([\n",
    "    [-2*eps, 0, np.sqrt(6)*V, 0, 0],\n",
    "    [0, -eps + 3*W, 0, 3*V, 0],\n",
    "    [np.sqrt(6)*V, 0, 4*W, 0, np.sqrt(6)*V],\n",
    "    [0, 3*V, 0, eps+3*W, 0],\n",
    "    [0, 0, np.sqrt(6)*V, 0, 2*eps]\n",
    "])\n",
    "eigvals = torch.real(torch.linalg.eigvals(H))\n",
    "min_eigval = torch.min(eigvals)\n",
    "print(eigvals)"
   ]
  },
  {
   "cell_type": "code",
   "execution_count": 30,
   "metadata": {},
   "outputs": [],
   "source": [
    "def dd(a, b):\n",
    "    if a==b:\n",
    "        return 1\n",
    "    else:\n",
    "        return 0\n",
    "\n",
    "def construct_spin(S):\n",
    "\n",
    "    size = int(2*S + 1)\n",
    "    J_pluss = np.zeros((size, size))\n",
    "    J_minus = np.zeros((size, size))\n",
    "    J_z = np.zeros((size, size))\n",
    "\n",
    "    for i in range(size):\n",
    "        for k in range(size):\n",
    "            m = i-S\n",
    "            n = k-S\n",
    "\n",
    "            pm_factor = np.sqrt(S*(S+1) -m*n)\n",
    "\n",
    "            J_pluss[i, k] = dd(m, n+1)*pm_factor\n",
    "            J_minus[i, k] = dd(m+1, n)*pm_factor\n",
    "            J_z[i, k] = dd(m,n)*m\n",
    "    \n",
    "    return J_z, J_pluss, J_minus\n",
    "\n",
    "def construct_Hamiltonian(S, eps, V):\n",
    "    \n",
    "    J_z, J_pluss, J_minus = construct_spin(S)\n",
    "\n",
    "    H = eps*J_z - 1/2*V*(J_pluss@J_pluss + J_minus@J_minus)\n",
    "\n",
    "    return H"
   ]
  },
  {
   "cell_type": "code",
   "execution_count": 35,
   "metadata": {},
   "outputs": [
    {
     "name": "stdout",
     "output_type": "stream",
     "text": [
      "-2.645751311064594\n"
     ]
    }
   ],
   "source": [
    "H = torch.tensor(construct_Hamiltonian(2, 1, 0.5))\n",
    "eigvals = torch.real(torch.linalg.eigvals(H))\n",
    "min_eigval = torch.min(eigvals)\n",
    "print(min_eigval.item())"
   ]
  },
  {
   "cell_type": "code",
   "execution_count": null,
   "metadata": {},
   "outputs": [],
   "source": []
  }
 ],
 "metadata": {
  "kernelspec": {
   "display_name": "Python 3",
   "language": "python",
   "name": "python3"
  },
  "language_info": {
   "codemirror_mode": {
    "name": "ipython",
    "version": 3
   },
   "file_extension": ".py",
   "mimetype": "text/x-python",
   "name": "python",
   "nbconvert_exporter": "python",
   "pygments_lexer": "ipython3",
   "version": "3.11.4"
  }
 },
 "nbformat": 4,
 "nbformat_minor": 2
}
