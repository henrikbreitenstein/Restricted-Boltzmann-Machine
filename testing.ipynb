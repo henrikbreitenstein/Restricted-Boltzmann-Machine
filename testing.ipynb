{
 "cells": [
  {
   "cell_type": "code",
   "execution_count": 2,
   "metadata": {},
   "outputs": [],
   "source": [
    "import torch"
   ]
  },
  {
   "cell_type": "code",
   "execution_count": 23,
   "metadata": {},
   "outputs": [
    {
     "name": "stdout",
     "output_type": "stream",
     "text": [
      "tensor([[False, False, False, False],\n",
      "        [ True, False, False, False],\n",
      "        [False, False, False,  True],\n",
      "        [False, False, False, False],\n",
      "        [False, False, False, False],\n",
      "        [False, False, False,  True]])\n"
     ]
    },
    {
     "data": {
      "text/plain": [
       "(tensor([1, 2, 5]), tensor([0, 3, 3]))"
      ]
     },
     "execution_count": 23,
     "metadata": {},
     "output_type": "execute_result"
    }
   ],
   "source": [
    "a = torch.tensor([[1,0], [1, 1], [0, 0], [1, 0], [0, 1], [0, 0]])\n",
    "unique = torch.unique(a, dim=0)\n",
    "H = torch.all(a[:, None] == unique, dim=-1)\n",
    "w = torch.tensor([0.8, 0.1, 0.1, 0.01])\n",
    "doubles = torch.where(abs(torch.sum(a[:, None] - unique, dim=-1)) == 2)\n",
    "print(abs(torch.sum(a[:, None] - unique, dim=-1)) == 2)\n",
    "doubles"
   ]
  },
  {
   "cell_type": "code",
   "execution_count": 24,
   "metadata": {},
   "outputs": [
    {
     "data": {
      "text/plain": [
       "tensor([ 0.0000,  0.6000, -1.0050,  0.0000,  0.0000, -1.0050])"
      ]
     },
     "execution_count": 24,
     "metadata": {},
     "output_type": "execute_result"
    }
   ],
   "source": [
    "def lipkin_local(dist_s, unique_s, weight_s, eps, V, W):\n",
    "    size = weight_s[torch.where(torch.all(dist_s[:, None] == unique_s, dim=-1))[1]]\n",
    "    H_0 = eps*(torch.sum(dist_s == 1, dim=1) - torch.sum(dist_s == 0, dim=1))\n",
    "    size_mask, weight_mask = torch.where(torch.abs(torch.sum(dist_s[:, None]-unique_s, dim=-1)) == 2)\n",
    "    H_1 = torch.zeros_like(size)\n",
    "    H_1[size_mask] = V*weight_s[weight_mask]\n",
    "    sum = 0.5*H_0 - H_1\n",
    "    return sum\n",
    "\n",
    "lipkin_local(a, unique, w, 1, 0.5, 0)"
   ]
  },
  {
   "cell_type": "code",
   "execution_count": 28,
   "metadata": {},
   "outputs": [
    {
     "data": {
      "text/plain": [
       "[(0, 0, 0),\n",
       " (0, 0, 1),\n",
       " (0, 1, 0),\n",
       " (0, 1, 1),\n",
       " (1, 0, 0),\n",
       " (1, 0, 1),\n",
       " (1, 1, 0),\n",
       " (1, 1, 1)]"
      ]
     },
     "execution_count": 28,
     "metadata": {},
     "output_type": "execute_result"
    }
   ],
   "source": [
    "import itertools\n",
    "lst = list(itertools.product([0, 1], repeat=3))\n",
    "lst"
   ]
  },
  {
   "cell_type": "code",
   "execution_count": 407,
   "metadata": {},
   "outputs": [
    {
     "data": {
      "text/plain": [
       "tensor(-1.4141)"
      ]
     },
     "execution_count": 407,
     "metadata": {},
     "output_type": "execute_result"
    }
   ],
   "source": [
    "dist_s = torch.tensor([[0, 0]]*24 + [[1, 1]]*4)\n",
    "size = dist_s.shape[0]\n",
    "unique, weight = torch.unique(dist_s, dim=0, return_counts=True)\n",
    "weight = torch.sqrt(weight/size)\n",
    "mask_u = torch.where(torch.all(dist_s[:, None] == unique, dim = -1))[1]\n",
    "\n",
    "H_0 = 0.5*(torch.sum(unique == 1, dim=-1) - torch.sum(unique == 0, dim = -1))\n",
    "H_1 = torch.sum(weight[:, None]*(abs(torch.sum((unique[:, None] - unique), dim=-1)) == 2), dim=0)/weight\n",
    "E = (H_0[mask_u] - H_1[mask_u])\n",
    "torch.mean(E)"
   ]
  },
  {
   "cell_type": "code",
   "execution_count": 399,
   "metadata": {},
   "outputs": [
    {
     "data": {
      "text/plain": [
       "tensor([[[1, 1, 1],\n",
       "         [1, 1, 1]],\n",
       "\n",
       "        [[1, 1, 1],\n",
       "         [0, 0, 0]],\n",
       "\n",
       "        [[0, 0, 0],\n",
       "         [1, 1, 1]],\n",
       "\n",
       "        [[0, 0, 0],\n",
       "         [0, 0, 0]]])"
      ]
     },
     "execution_count": 399,
     "metadata": {},
     "output_type": "execute_result"
    }
   ],
   "source": [
    "d = torch.tensor([[1, 1, 1], [1, 1, 1], [1, 1, 1], [1, 1, 1]])\n",
    "a = torch.tensor([[1, 1], [1, 0], [0, 1], [0, 0]])\n",
    "b = torch.tensor([2, 2, 2])\n",
    "\n",
    "a[:, :, None]@d[:, None, :]\n",
    "\n"
   ]
  },
  {
   "cell_type": "code",
   "execution_count": null,
   "metadata": {},
   "outputs": [],
   "source": [
    "import netket as nk\n",
    "from netket.operator.spin import sigmax, sigmaz"
   ]
  },
  {
   "cell_type": "code",
   "execution_count": null,
   "metadata": {},
   "outputs": [],
   "source": [
    "def ising_true(N, J, L):\n",
    "    hi = nk.hilbert.Spin(s=1/2, N=N) \n",
    "    H = sum([L*sigmax(hi,i) for i in range(N)])\n",
    "    H += sum([J*sigmaz(hi,i)*sigmaz(hi,(i+1)%N) for i in range(N)])\n",
    "    sp_h=H.to_sparse()\n",
    "    from scipy.sparse.linalg import eigsh\n",
    "    eig_vals, eig_vecs = eigsh(sp_h, k=2, which=\"SA\")\n",
    "    E_gs = eig_vals[0]\n",
    "    return E_gs"
   ]
  },
  {
   "cell_type": "code",
   "execution_count": 410,
   "metadata": {},
   "outputs": [
    {
     "data": {
      "text/plain": [
       "tensor([-2,  2,  2, -2])"
      ]
     },
     "execution_count": 410,
     "metadata": {},
     "output_type": "execute_result"
    }
   ],
   "source": [
    "dist_s = torch.tensor([[1, 1], [1, 0], [0, 1], [1, 0], [0, 1], [0,0], [0, 0], [0, 1], [0, 0], [0, 0], [0,0], [0,0], [0,0], [0,0], [0,0], [0,0], [1,1], [1,1], [1,1], [0,0], [0,0], [0,0], [0,0], [0,0], [0,0], [0,0], [0,0], [0,0]])\n",
    "size = dist_s.shape[0]\n",
    "unique, weight = torch.unique(dist_s, dim=0, return_counts=True)\n",
    "weight = torch.sqrt(weight/size)\n",
    "mask_u = torch.where(torch.all(dist_s[:, None] == unique, dim = -1))[1]\n",
    "\n",
    "unique = 2*unique-1\n",
    "H = -torch.sum(torch.roll(unique, 1, dims=-1)*unique, dim = -1)\n",
    "H"
   ]
  },
  {
   "cell_type": "code",
   "execution_count": null,
   "metadata": {},
   "outputs": [],
   "source": []
  }
 ],
 "metadata": {
  "kernelspec": {
   "display_name": "Python 3",
   "language": "python",
   "name": "python3"
  },
  "language_info": {
   "codemirror_mode": {
    "name": "ipython",
    "version": 3
   },
   "file_extension": ".py",
   "mimetype": "text/x-python",
   "name": "python",
   "nbconvert_exporter": "python",
   "pygments_lexer": "ipython3",
   "version": "3.10.6"
  }
 },
 "nbformat": 4,
 "nbformat_minor": 2
}
